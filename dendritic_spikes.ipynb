{
 "cells": [
  {
   "cell_type": "markdown",
   "metadata": {},
   "source": [
    "Context: Playing with equation (1) of this paper: https://arxiv.org/pdf/1511.00083"
   ]
  },
  {
   "cell_type": "code",
   "execution_count": 5,
   "metadata": {},
   "outputs": [],
   "source": [
    "import math"
   ]
  },
  {
   "cell_type": "markdown",
   "metadata": {},
   "source": [
    "<i>n</i> = total population of neurons <br>\n",
    "<i>a</i> = number of active neurons within the population at a given time <br>\n",
    "<i>s</i> = number of dendritic synapses <br>\n",
    "<i>theta</i> = the least number of synapses that have to be active for a dendritic spike to occur\n",
    "\n",
    "<i>C(s, b)</i> = the total number of ways 'b' (theta <= b <= s) dendritic synapses can be active among 's' total dendritic synapses. <br><br>\n",
    "<i>C(n-s, a-b)</i> = Keeping the pattern of the 's' dendritic synapses fixed, which implies that the pattern of the 's' neurons <br>\n",
    "connected to the 's' synapses is fixed, what is the total number of ways for the rest of the neurons (i.e. the neurons <br> \n",
    "not connected to the 's' synapses) to be active? \n",
    "    \n",
    "Multiply C(s,b) and C(n-s, a-b) together, and you get the number of ways for the dendritic spike to occur for some 'b'. <br><br>\n",
    "Sum the count for each 'b' to get the total number of ways the dendritic spike can occur."
   ]
  },
  {
   "cell_type": "code",
   "execution_count": 6,
   "metadata": {},
   "outputs": [],
   "source": [
    "def threshold_cross_count(n, a, s, theta): # the number of patterns that cross the threshold theta of the dendrite.\n",
    "    count = 0\n",
    "    \n",
    "    for b in range(theta, s+1):\n",
    "        comb_within = math.comb(s, b)\n",
    "        outside_factor = math.comb(n-s, a-b)\n",
    "        count += comb_within * outside_factor\n",
    "    \n",
    "    return count"
   ]
  },
  {
   "cell_type": "markdown",
   "metadata": {},
   "source": [
    "<i>C(n, a)</i> = the total number of ways 'a' neurons can be active in a population of 'n' neurons\n",
    "\n",
    "The below calculation basically gives the probability of the dendritic spike occuring. In the worst case, <br>\n",
    "every pattern that crosses the threshold could be a false match, therefore the worst-case probability of a false match <br>\n",
    "is the same as the probability of the dendritic spike occuring."
   ]
  },
  {
   "cell_type": "code",
   "execution_count": 7,
   "metadata": {},
   "outputs": [],
   "source": [
    "def false_matches(n, a, s, theta):\n",
    "            \n",
    "    return threshold_cross_count(n, a, s, theta)/math.comb(n, a) # every pattern that crosses the threshold could be a false match. \n",
    "        "
   ]
  },
  {
   "cell_type": "markdown",
   "metadata": {},
   "source": [
    "As you can see, if the number of active neurons at a point in time is small, the probability of a dendritic spike occuring is low. <br><br>\n",
    "It turns out that for a pouplation of neurons, the neuronal activity tends to be sparse (https://www.cnbc.cmu.edu/~tai/nc19journalclubs/Olshausen-Field-CON-2004-1.pdf). <br><br>\n",
    "This implies that dendritic spikes don't tend to occur with a high probability. Thus, the probability of false match is also low. Basically, <br>\n",
    "the brain is pretty careful in firing dendritic spikes. This is a step towards understanding the robustness of neuronal firing.\n",
    "\n",
    "They say that the brain is pretty efficient. This, I guess, is also an example of that. "
   ]
  },
  {
   "cell_type": "code",
   "execution_count": 31,
   "metadata": {},
   "outputs": [
    {
     "name": "stdout",
     "output_type": "stream",
     "text": [
      "9.925956644577178e-13 9.862183180483632e-17 9.779363371030453e-21 2.343083718152087e-18\n",
      "9.99325159735319e-07 9.987406204022813e-09 9.979766968711271e-11 8.474520828339986e-07\n"
     ]
    }
   ],
   "source": [
    "n = 200000\n",
    "\n",
    "x = 2000\n",
    "y = 20000\n",
    "\n",
    "print(false_matches(n, x, 6, 6), false_matches(n, x, 8, 8), false_matches(n, x, 10, 10), false_matches(n, x, 24, 12))\n",
    "print(false_matches(n, y, 6, 6), false_matches(n, y, 8, 8), false_matches(n, y, 10, 10), false_matches(n, y, 24, 12))"
   ]
  }
 ],
 "metadata": {
  "kernelspec": {
   "display_name": "venv",
   "language": "python",
   "name": "python3"
  },
  "language_info": {
   "codemirror_mode": {
    "name": "ipython",
    "version": 3
   },
   "file_extension": ".py",
   "mimetype": "text/x-python",
   "name": "python",
   "nbconvert_exporter": "python",
   "pygments_lexer": "ipython3",
   "version": "3.12.3"
  }
 },
 "nbformat": 4,
 "nbformat_minor": 2
}
